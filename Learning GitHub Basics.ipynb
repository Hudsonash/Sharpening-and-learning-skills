{
 "cells": [
  {
   "cell_type": "markdown",
   "metadata": {},
   "source": [
    "## Learning GitHub Basics\n",
    "\n",
    "GitHub is a platform for open-source software similar to a social media website.  Each programmer has a profile with repositories, which are folders often containing all the necessary components of a piece of code. GitHub is a version control applicationm which lets people create many versions of the same project, branch off to create seperate problems, clone the original code, and select an earlier checkpoint. "
   ]
  },
  {
   "cell_type": "markdown",
   "metadata": {},
   "source": [
    "### GitHub and the Command Line\n",
    "GitHub projects can be created via the command line.  There are several commands that are necessary to become familiar with in Git:\n",
    "\n",
    "* **git init**: This initializes a local git repository in the current directory.  To initialize in a different location, use cd to change the directory to a comfortable location\n",
    "* **git status**: shows all the files in the current directory and all the files git is currently tracking. \n",
    "* **git add file_name**: brings the file to git's attention. This does not save a file, but is necessary in order to take commit (take a snapshot) of the file\n",
    "* **git commit -m \"message_here\"**: git commit takes a 'snapshot' of the current project and attaches a 40-character key, identifying the saved project \n",
    "* **git push**: Brings a local git saved file to the online version of github\n",
    "* **git pull**: brings the current online version of the repository to the local computer\n",
    "* **"
   ]
  },
  {
   "cell_type": "code",
   "execution_count": null,
   "metadata": {
    "collapsed": true
   },
   "outputs": [],
   "source": []
  }
 ],
 "metadata": {
  "kernelspec": {
   "display_name": "Python 3",
   "language": "python",
   "name": "python3"
  },
  "language_info": {
   "codemirror_mode": {
    "name": "ipython",
    "version": 3
   },
   "file_extension": ".py",
   "mimetype": "text/x-python",
   "name": "python",
   "nbconvert_exporter": "python",
   "pygments_lexer": "ipython3",
   "version": "3.5.1"
  }
 },
 "nbformat": 4,
 "nbformat_minor": 0
}
