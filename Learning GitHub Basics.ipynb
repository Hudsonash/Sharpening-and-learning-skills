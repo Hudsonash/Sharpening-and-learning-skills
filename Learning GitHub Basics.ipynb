{
 "cells": [
  {
   "cell_type": "markdown",
   "metadata": {},
   "source": [
    "## Learning GitHub Basics\n",
    "---\n",
    "\n",
    "GitHub is a platform for open-source software similar to a social media website.  Each programmer has a profile with repositories, which are folders often containing all the necessary components of a piece of code. GitHub is a version control application which lets people create many versions of the same project, branch off to create seperate problems, clone the original code, and select an earlier checkpoint. "
   ]
  },
  {
   "cell_type": "markdown",
   "metadata": {},
   "source": [
    "### GitHub and the Command Line\n",
    "GitHub projects can be created via the command line.  There are several commands that are necessary to become familiar with in Git:\n",
    "\n",
    "* **git init**: This initializes a local git repository in the current directory.  To initialize in a different location, use cd to change the directory to a comfortable location \n",
    "* **git status**: shows all the files in the current directory and all the files git is currently tracking. \n",
    "* **git add file_name**: brings the file to git's attention. This does not save a file, but is necessary in order to take commit (take a snapshot) of the file\n",
    "* **git commit -m \"message_here\"**: git commit takes a 'snapshot' of the current project and attaches a 40-character key, identifying the saved project \n",
    "* **git reset HEAD file_name**: removes the file from the staging area to the working directory \n",
    "* **git log**: shows the commit codes, commit messages, and time of commit.  \n",
    "* **git reset SHA**: SHA is the first 7 characters of the unique 40 character commit.  This resets the project to the commit code's version\n",
    "\n",
    "\n",
    "### GitHub Branching\n",
    "A branch in GitHub allows people to work on specific aspects of the project without making changes to the master branch.  All the regular commands seen above apply to a branch. Important definitions are below:\n",
    "\n",
    "**_Master Branch_**: The main branch of the repository.  This is the definitive version of the project, where branches originate from and eventually converge for the completed copy. \n",
    "\n",
    "**_Branch_**: A branch copies the master branch and allows edits and commits which change the file. The main aspect of a branch is to develop a specific feature.  The branch will eventually be merged back into the master branch for a completed file. \n",
    "\n",
    "**_Merge conflict_**: A merge conflict occurs where there is a conflict between two branches when attempting to merge two branches together. A common error is the work may have also been done in the master slide, but completed with an alternative style in the branch. \n",
    "\n",
    "**_Fast forward_**: a fast forward occurs when a branch is identical to a master with added features.  The master is simply updated ('fast-forwarded') to the branch's file\n",
    "\n",
    "##### Commands involving Branching\n",
    "* **git branch**: displays all the branches of the current repository\n",
    "* **git branch branch_name**: creates a new branch called branch_name\n",
    "* **git checkout branch_name**: changes working directories to the branch branch_name\n",
    "* **git merge branch_name**: merges branch_name to the current branch.\n",
    "* **git branch -d branch_name**: deletes the branch\n",
    "\n",
    "### Connecting Local Git to GitHub\n",
    "GitHub is the online platform showcasing repositories, while Git is the local version control application.  A power of git is the ability for people to edit the code offline and have the commit's upload when connected to the internet.  The ability to collaborate on projects with other people increases the power of GitHub.  It is important to become familiar with the following terminology:\n",
    "\n",
    "**_Pull Request_**: A pull request initiates discussion about the commits you made for a branch of a project.  The code can be reviewed and deployed then merged into a master branch, or require more changes and testing.  A pull request in essence allows people to give feedback and review changes of a branch.  \n",
    "\n",
    "**_Push Request_**: Pushes the changes made from the local branch to a remote repository\n",
    "\n",
    "**_Remote Repository_**: An online repository which is often given by the url of _your_online repository\n",
    "\n",
    "**_Upstream Repository_**: The original repository of the code (not your own code).  Often if you are contributing to the software, you have forked it by making an exact clone of the user or organization's repository to your own account and repository \n",
    "\n",
    "**_Forking_**: A fork is when an exact clone of someone else's repository is made to your own personal repository\n",
    "\n",
    "##### Commands Connecting Git to GitHub\n",
    "* **git remote add _url-of-repository_**: adds the remote repository to the name remote\n",
    "* **git fetch**: retrieves all the work from the remote repository and updates the local copy. Useful to avoid merge conflicts\n",
    "* **git push origin _branch-name_**: pushes a local branch to the origin remote \n",
    "* **git remote -v**: displays where a project's commits will be pushed and where the new repository will be fetched\n",
    "* **git remote show origin** shows all the information regarding the remote repository, origin.\n",
    "* **git merge origin/master**: merges the master of the remote repository origin to the local master branch of the git repository\n",
    "* **git push origin _branch-name_**: Pushes the local version of a branch to the remote repository"
   ]
  },
  {
   "cell_type": "code",
   "execution_count": null,
   "metadata": {
    "collapsed": true
   },
   "outputs": [],
   "source": []
  }
 ],
 "metadata": {
  "kernelspec": {
   "display_name": "Python 3",
   "language": "python",
   "name": "python3"
  },
  "language_info": {
   "codemirror_mode": {
    "name": "ipython",
    "version": 3
   },
   "file_extension": ".py",
   "mimetype": "text/x-python",
   "name": "python",
   "nbconvert_exporter": "python",
   "pygments_lexer": "ipython3",
   "version": "3.5.1"
  }
 },
 "nbformat": 4,
 "nbformat_minor": 0
}
