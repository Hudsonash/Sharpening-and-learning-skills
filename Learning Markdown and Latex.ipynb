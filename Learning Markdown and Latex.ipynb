{
 "cells": [
  {
   "cell_type": "markdown",
   "metadata": {
    "slideshow": {
     "slide_type": "-"
    }
   },
   "source": [
    "##  Learning the Jupyter Notebook - Markdown \n"
   ]
  },
  {
   "cell_type": "markdown",
   "metadata": {},
   "source": [
    "### Learning Markdown\n",
    "Markdown is a plaintext that can be easily shared by phones, computers, and other electronical forms.\n",
    "\n",
    "##### Text Emphasis\n",
    "\n",
    "1. **Adding Italics**: Using underscores on the outside of what you want _italisized_ \n",
    "2. **Adding Bolding**: To add **bolding** to the characters, add two asterisks on either side of the word \n",
    "3. **Headers**: Headers are created using hashtags.  The more hashtags, the smaller the headings\n",
    "4. **Combining**: Use asterisks and the underscore **_together_** to bold and italisize a word. These can be used in headings\n",
    "\n",
    "##### Links\n",
    "1. **In-line links**: In-line links direct to another location in the document, and can best be used in a page of contents. There are two parts to creating links.  The text is put in square brackets directly followed by the link in square brackets.  [Here is an in-line link to this same page](Learning%20Jupyter%20Notebook%20Magic%20Commands.ipynb)\n",
    "2. ** Direct Links**: The displayed text goes in the square brackets while the link goes in the regular brackets\n",
    "2. **References**:  If using the same link in multiple places, a reference to the link can be created at the bottom of the text using a square bracket for the reference name, followed by a colon, followed by the link. \n",
    "    2. An example reference - [Hockey Standings][Current Hockey Standings]\n",
    "\n",
    "##### Images\n",
    "1. **Inserting Images**: Images are inserted in a similar fashion to links. An Image can be inserted using square brackets to create alternative text to describe the image and regular brackets for the image url. An exclamation point must be used in order for markdown to realize it is an image.  Images can be used in the same way as references \n",
    "    1. Example: ![A bottle of lemonade](http://store6.geomerx.com/isonsfamilypizza/grfx/MediaVault/calypso.jpg)\n",
    "    \n",
    "##### Blockquotes and Fenced Writing\n",
    "1. **Blockquote**: A single blockquote can be created by adding a greater than symbol at the beginning of the sentence \">\".  To use a multiple line blockquote, ensure the \">\" is on every single line.\n",
    "> Blockquotes are ideal to emphasize a point and make it both legible and clear. They can be **_emphasized_**,\n",
    ">> go deeper\n",
    ">\n",
    "> and spaced\n",
    "\n",
    "2. ** Fenced Writing**: Start the sentence with 3 backticks (not apostrophe!) to place it into a fence, allowing simpler copying\n",
    "\n",
    "```\n",
    "This becomes much easier to copy and paste!\n",
    "```\n",
    "\n",
    "\n",
    "##### Lists \n",
    "1. **Unordered Lists**: Use asterisks to create bullet points.  For intented points, move a space further along the line \n",
    "  * Eggs\n",
    "  \n",
    "   Eggs are a delicious choice!\n",
    "    * Buy 24\n",
    "  * Milk\n",
    "  * Cheese\n",
    "2. ** Ordered Lists**: Use letters or numbers to create ordered lists.  Similar to unordered, add a space to ensure heirarchy.  For examples, view the above markdown text.  To align text such that the numbers stick out, ensure the text has a space in between the numbered point and an extra space (see example below)\n",
    "\n",
    " Using proper spacing in formatting can help a document look clean.\n",
    " \n",
    "##### Paragraph Formatting\n",
    "1. ** Single spaced lines**: To use a soft-break (a single break in a line), add two spaces at the end of the sentence. and before the break in the line Below is an example of how to use single spaces\n",
    "  \n",
    " Kinkaku yummy  \n",
    " Sushi fills my stomach up  \n",
    " But it is pricey \n",
    " \n",
    "[Current Hockey Standings]: https://www.nhl.com/standings\n",
    "\n",
    "\n",
    " "
   ]
  },
  {
   "cell_type": "markdown",
   "metadata": {},
   "source": [
    "### Example of Using Markdown - Resume\n"
   ]
  },
  {
   "cell_type": "markdown",
   "metadata": {},
   "source": [
    "## Hudson Ash\n",
    "---\n",
    "### Summary\n",
    "Aiming to analyze, visualize, present, and explain small or large amounts of data to aid in business operations\n",
    "\n",
    "### Work Experience\n",
    "**_ Gowling WLG _**  \n",
    "** Data Analyst **  \n",
    "Feburary 2014 - Present\n",
    "> Created a relational database in Python of ~ 1.75 million Canadian trademarks from XML files  \n",
    "> Completed an industry and competitor analysis of industry trends  \n",
    "> Benchmarked Gowling WLG's success\n",
    "\n",
    "**_ Farm Business Consultants _**  \n",
    "** Quality Assurance Technician  **  \n",
    "January 2016 - April 2016\n",
    "> Analy\n",
    "\n",
    "**_ Gowling WLG _**  \n",
    "** Accounting Co-op Student **  \n",
    "May 2015 - August 2015\n",
    "> \n",
    "\n",
    "### Education\n",
    "**_University of Waterloo_**  \n",
    "** Bachelor of Mathematics **  \n",
    "> \n",
    "\n",
    "**_Wilfred Laurier University_**  \n",
    "** Bachelor of Business Administration **  \n",
    "> \n",
    "\n",
    "\n",
    "### Side Projects \n",
    "**_ Player Sort & Team Compositions _**  \n",
    "Link to project is here\n",
    "\n",
    "**_ Self-Tutorials_**  \n",
    "Link to project\n",
    "\n",
    "### Skills and Interests "
   ]
  },
  {
   "cell_type": "markdown",
   "metadata": {},
   "source": [
    "##### LaTeX and Mathematics \n",
    "1. ** Simple Formatting**: To use latex in-line, begin with a dollar sign and end with a dollar sign.  For example, $\\alpha = i_{(3)}^4 + 12$ shows that latex can be easily inputted into markdown.  To centre a mathematical formula, use two dollar signs at the beginning and end, as seen below:\n",
    "$$\\sum_{i=1}^n v + v^2 + ... + v^n = 1000\\alpha + \\beta$$  \n",
    " Latex is run in Jupyter notebooks with MathJax.  [See here](https://www.mathjax.org/) for further information or concerns using MathJax. An entire cell can be run in latex by using %% latex at the beginning of the cell  \n",
    " "
   ]
  },
  {
   "cell_type": "markdown",
   "metadata": {},
   "source": [
    "## Learning the Jupyter Notebook - Magic Functions and Commands"
   ]
  },
  {
   "cell_type": "markdown",
   "metadata": {
    "collapsed": true
   },
   "source": [
    "Jupyter notebooks include magic functions, which are bits of typical python code and condenses them into short, few word functions.  They can be used on a single line by calling **\"%\"** at the beginning or for an entire cell by calling **\"%%\"**.  To find all the magic functions, call **_'%lsmagic'_** in a cell to find a list and call **_%(name of magic)?_** for more details on the specific magic"
   ]
  },
  {
   "cell_type": "code",
   "execution_count": 2,
   "metadata": {
    "collapsed": false
   },
   "outputs": [
    {
     "data": {
      "application/json": {
       "cell": {
        "!": "OSMagics",
        "HTML": "Other",
        "SVG": "Other",
        "bash": "Other",
        "capture": "ExecutionMagics",
        "debug": "ExecutionMagics",
        "file": "Other",
        "html": "DisplayMagics",
        "javascript": "DisplayMagics",
        "latex": "DisplayMagics",
        "perl": "Other",
        "prun": "ExecutionMagics",
        "pypy": "Other",
        "python": "Other",
        "python2": "Other",
        "python3": "Other",
        "ruby": "Other",
        "script": "ScriptMagics",
        "sh": "Other",
        "svg": "DisplayMagics",
        "sx": "OSMagics",
        "system": "OSMagics",
        "time": "ExecutionMagics",
        "timeit": "ExecutionMagics",
        "writefile": "OSMagics"
       },
       "line": {
        "alias": "OSMagics",
        "alias_magic": "BasicMagics",
        "autocall": "AutoMagics",
        "automagic": "AutoMagics",
        "autosave": "KernelMagics",
        "bookmark": "OSMagics",
        "cat": "Other",
        "cd": "OSMagics",
        "clear": "KernelMagics",
        "colors": "BasicMagics",
        "config": "ConfigMagics",
        "connect_info": "KernelMagics",
        "cp": "Other",
        "debug": "ExecutionMagics",
        "dhist": "OSMagics",
        "dirs": "OSMagics",
        "doctest_mode": "BasicMagics",
        "ed": "Other",
        "edit": "KernelMagics",
        "env": "OSMagics",
        "gui": "BasicMagics",
        "hist": "Other",
        "history": "HistoryMagics",
        "install_default_config": "DeprecatedMagics",
        "install_ext": "ExtensionMagics",
        "install_profiles": "DeprecatedMagics",
        "killbgscripts": "ScriptMagics",
        "ldir": "Other",
        "less": "KernelMagics",
        "lf": "Other",
        "lk": "Other",
        "ll": "Other",
        "load": "CodeMagics",
        "load_ext": "ExtensionMagics",
        "loadpy": "CodeMagics",
        "logoff": "LoggingMagics",
        "logon": "LoggingMagics",
        "logstart": "LoggingMagics",
        "logstate": "LoggingMagics",
        "logstop": "LoggingMagics",
        "ls": "Other",
        "lsmagic": "BasicMagics",
        "lx": "Other",
        "macro": "ExecutionMagics",
        "magic": "BasicMagics",
        "man": "KernelMagics",
        "matplotlib": "PylabMagics",
        "mkdir": "Other",
        "more": "KernelMagics",
        "mv": "Other",
        "notebook": "BasicMagics",
        "page": "BasicMagics",
        "pastebin": "CodeMagics",
        "pdb": "ExecutionMagics",
        "pdef": "NamespaceMagics",
        "pdoc": "NamespaceMagics",
        "pfile": "NamespaceMagics",
        "pinfo": "NamespaceMagics",
        "pinfo2": "NamespaceMagics",
        "popd": "OSMagics",
        "pprint": "BasicMagics",
        "precision": "BasicMagics",
        "profile": "BasicMagics",
        "prun": "ExecutionMagics",
        "psearch": "NamespaceMagics",
        "psource": "NamespaceMagics",
        "pushd": "OSMagics",
        "pwd": "OSMagics",
        "pycat": "OSMagics",
        "pylab": "PylabMagics",
        "qtconsole": "KernelMagics",
        "quickref": "BasicMagics",
        "recall": "HistoryMagics",
        "rehashx": "OSMagics",
        "reload_ext": "ExtensionMagics",
        "rep": "Other",
        "rerun": "HistoryMagics",
        "reset": "NamespaceMagics",
        "reset_selective": "NamespaceMagics",
        "rm": "Other",
        "rmdir": "Other",
        "run": "ExecutionMagics",
        "save": "CodeMagics",
        "sc": "OSMagics",
        "set_env": "OSMagics",
        "store": "StoreMagics",
        "sx": "OSMagics",
        "system": "OSMagics",
        "tb": "ExecutionMagics",
        "time": "ExecutionMagics",
        "timeit": "ExecutionMagics",
        "unalias": "OSMagics",
        "unload_ext": "ExtensionMagics",
        "who": "NamespaceMagics",
        "who_ls": "NamespaceMagics",
        "whos": "NamespaceMagics",
        "xdel": "NamespaceMagics",
        "xmode": "BasicMagics"
       }
      },
      "text/plain": [
       "Available line magics:\n",
       "%alias  %alias_magic  %autocall  %automagic  %autosave  %bookmark  %cat  %cd  %clear  %colors  %config  %connect_info  %cp  %debug  %dhist  %dirs  %doctest_mode  %ed  %edit  %env  %gui  %hist  %history  %install_default_config  %install_ext  %install_profiles  %killbgscripts  %ldir  %less  %lf  %lk  %ll  %load  %load_ext  %loadpy  %logoff  %logon  %logstart  %logstate  %logstop  %ls  %lsmagic  %lx  %macro  %magic  %man  %matplotlib  %mkdir  %more  %mv  %notebook  %page  %pastebin  %pdb  %pdef  %pdoc  %pfile  %pinfo  %pinfo2  %popd  %pprint  %precision  %profile  %prun  %psearch  %psource  %pushd  %pwd  %pycat  %pylab  %qtconsole  %quickref  %recall  %rehashx  %reload_ext  %rep  %rerun  %reset  %reset_selective  %rm  %rmdir  %run  %save  %sc  %set_env  %store  %sx  %system  %tb  %time  %timeit  %unalias  %unload_ext  %who  %who_ls  %whos  %xdel  %xmode\n",
       "\n",
       "Available cell magics:\n",
       "%%!  %%HTML  %%SVG  %%bash  %%capture  %%debug  %%file  %%html  %%javascript  %%latex  %%perl  %%prun  %%pypy  %%python  %%python2  %%python3  %%ruby  %%script  %%sh  %%svg  %%sx  %%system  %%time  %%timeit  %%writefile\n",
       "\n",
       "Automagic is ON, % prefix IS NOT needed for line magics."
      ]
     },
     "execution_count": 2,
     "metadata": {},
     "output_type": "execute_result"
    }
   ],
   "source": [
    "%lsmagic"
   ]
  },
  {
   "cell_type": "markdown",
   "metadata": {},
   "source": [
    "##### Automagic \n",
    "Automagic allouws line magics to be applied without using the \"%\" before each line\n",
    "\n",
    "## Best Magic Functions \n",
    "* **Time and Timeit**: time and timeit are both magic lines and magic cells.  Time measures the amount of time it either takes a single line or a block of code to be executed.  \n",
    "    1. Time produces the user CPU time (the time it takes the computer to read and process code in Jupyter), the system CPU time (the amount of time the CPU spent running the code in a kernel or performing anything requested by the code) and the wall time (the real amount of time it took to perform the actions based on the computer's internal clock) in addition to the acutal value returned by the code\n",
    "    2. Timeit loops a single line or a block of code a million times and determines the average of the best 3 times.  Recommended to use timeit -o to just return the result"
   ]
  },
  {
   "cell_type": "code",
   "execution_count": 3,
   "metadata": {
    "collapsed": false
   },
   "outputs": [
    {
     "name": "stdout",
     "output_type": "stream",
     "text": [
      "CPU times: user 4 µs, sys: 1 µs, total: 5 µs\n",
      "Wall time: 21 µs\n"
     ]
    },
    {
     "data": {
      "text/plain": [
       "43556142965880123323311949751266331066368"
      ]
     },
     "execution_count": 3,
     "metadata": {},
     "output_type": "execute_result"
    }
   ],
   "source": [
    "time 8**45"
   ]
  },
  {
   "cell_type": "code",
   "execution_count": 4,
   "metadata": {
    "collapsed": false
   },
   "outputs": [
    {
     "ename": "NameError",
     "evalue": "name 'y' is not defined",
     "output_type": "error",
     "traceback": [
      "\u001b[0;31m---------------------------------------------------------------------------\u001b[0m",
      "\u001b[0;31mNameError\u001b[0m                                 Traceback (most recent call last)",
      "\u001b[0;32m<ipython-input-4-0b62dde1ad12>\u001b[0m in \u001b[0;36m<module>\u001b[0;34m()\u001b[0m\n\u001b[0;32m----> 1\u001b[0;31m \u001b[0mget_ipython\u001b[0m\u001b[0;34m(\u001b[0m\u001b[0;34m)\u001b[0m\u001b[0;34m.\u001b[0m\u001b[0mrun_cell_magic\u001b[0m\u001b[0;34m(\u001b[0m\u001b[0;34m'time'\u001b[0m\u001b[0;34m,\u001b[0m \u001b[0;34m''\u001b[0m\u001b[0;34m,\u001b[0m \u001b[0;34m'for x in range (1,30000000):\\n    y = y + x'\u001b[0m\u001b[0;34m)\u001b[0m\u001b[0;34m\u001b[0m\u001b[0m\n\u001b[0m",
      "\u001b[0;32m//anaconda/lib/python3.5/site-packages/IPython/core/interactiveshell.py\u001b[0m in \u001b[0;36mrun_cell_magic\u001b[0;34m(self, magic_name, line, cell)\u001b[0m\n\u001b[1;32m   2118\u001b[0m             \u001b[0mmagic_arg_s\u001b[0m \u001b[0;34m=\u001b[0m \u001b[0mself\u001b[0m\u001b[0;34m.\u001b[0m\u001b[0mvar_expand\u001b[0m\u001b[0;34m(\u001b[0m\u001b[0mline\u001b[0m\u001b[0;34m,\u001b[0m \u001b[0mstack_depth\u001b[0m\u001b[0;34m)\u001b[0m\u001b[0;34m\u001b[0m\u001b[0m\n\u001b[1;32m   2119\u001b[0m             \u001b[0;32mwith\u001b[0m \u001b[0mself\u001b[0m\u001b[0;34m.\u001b[0m\u001b[0mbuiltin_trap\u001b[0m\u001b[0;34m:\u001b[0m\u001b[0;34m\u001b[0m\u001b[0m\n\u001b[0;32m-> 2120\u001b[0;31m                 \u001b[0mresult\u001b[0m \u001b[0;34m=\u001b[0m \u001b[0mfn\u001b[0m\u001b[0;34m(\u001b[0m\u001b[0mmagic_arg_s\u001b[0m\u001b[0;34m,\u001b[0m \u001b[0mcell\u001b[0m\u001b[0;34m)\u001b[0m\u001b[0;34m\u001b[0m\u001b[0m\n\u001b[0m\u001b[1;32m   2121\u001b[0m             \u001b[0;32mreturn\u001b[0m \u001b[0mresult\u001b[0m\u001b[0;34m\u001b[0m\u001b[0m\n\u001b[1;32m   2122\u001b[0m \u001b[0;34m\u001b[0m\u001b[0m\n",
      "\u001b[0;32m<decorator-gen-60>\u001b[0m in \u001b[0;36mtime\u001b[0;34m(self, line, cell, local_ns)\u001b[0m\n",
      "\u001b[0;32m//anaconda/lib/python3.5/site-packages/IPython/core/magic.py\u001b[0m in \u001b[0;36m<lambda>\u001b[0;34m(f, *a, **k)\u001b[0m\n\u001b[1;32m    191\u001b[0m     \u001b[0;31m# but it's overkill for just that one bit of state.\u001b[0m\u001b[0;34m\u001b[0m\u001b[0;34m\u001b[0m\u001b[0m\n\u001b[1;32m    192\u001b[0m     \u001b[0;32mdef\u001b[0m \u001b[0mmagic_deco\u001b[0m\u001b[0;34m(\u001b[0m\u001b[0marg\u001b[0m\u001b[0;34m)\u001b[0m\u001b[0;34m:\u001b[0m\u001b[0;34m\u001b[0m\u001b[0m\n\u001b[0;32m--> 193\u001b[0;31m         \u001b[0mcall\u001b[0m \u001b[0;34m=\u001b[0m \u001b[0;32mlambda\u001b[0m \u001b[0mf\u001b[0m\u001b[0;34m,\u001b[0m \u001b[0;34m*\u001b[0m\u001b[0ma\u001b[0m\u001b[0;34m,\u001b[0m \u001b[0;34m**\u001b[0m\u001b[0mk\u001b[0m\u001b[0;34m:\u001b[0m \u001b[0mf\u001b[0m\u001b[0;34m(\u001b[0m\u001b[0;34m*\u001b[0m\u001b[0ma\u001b[0m\u001b[0;34m,\u001b[0m \u001b[0;34m**\u001b[0m\u001b[0mk\u001b[0m\u001b[0;34m)\u001b[0m\u001b[0;34m\u001b[0m\u001b[0m\n\u001b[0m\u001b[1;32m    194\u001b[0m \u001b[0;34m\u001b[0m\u001b[0m\n\u001b[1;32m    195\u001b[0m         \u001b[0;32mif\u001b[0m \u001b[0mcallable\u001b[0m\u001b[0;34m(\u001b[0m\u001b[0marg\u001b[0m\u001b[0;34m)\u001b[0m\u001b[0;34m:\u001b[0m\u001b[0;34m\u001b[0m\u001b[0m\n",
      "\u001b[0;32m//anaconda/lib/python3.5/site-packages/IPython/core/magics/execution.py\u001b[0m in \u001b[0;36mtime\u001b[0;34m(self, line, cell, local_ns)\u001b[0m\n\u001b[1;32m   1175\u001b[0m         \u001b[0;32melse\u001b[0m\u001b[0;34m:\u001b[0m\u001b[0;34m\u001b[0m\u001b[0m\n\u001b[1;32m   1176\u001b[0m             \u001b[0mst\u001b[0m \u001b[0;34m=\u001b[0m \u001b[0mclock2\u001b[0m\u001b[0;34m(\u001b[0m\u001b[0;34m)\u001b[0m\u001b[0;34m\u001b[0m\u001b[0m\n\u001b[0;32m-> 1177\u001b[0;31m             \u001b[0mexec\u001b[0m\u001b[0;34m(\u001b[0m\u001b[0mcode\u001b[0m\u001b[0;34m,\u001b[0m \u001b[0mglob\u001b[0m\u001b[0;34m,\u001b[0m \u001b[0mlocal_ns\u001b[0m\u001b[0;34m)\u001b[0m\u001b[0;34m\u001b[0m\u001b[0m\n\u001b[0m\u001b[1;32m   1178\u001b[0m             \u001b[0mend\u001b[0m \u001b[0;34m=\u001b[0m \u001b[0mclock2\u001b[0m\u001b[0;34m(\u001b[0m\u001b[0;34m)\u001b[0m\u001b[0;34m\u001b[0m\u001b[0m\n\u001b[1;32m   1179\u001b[0m             \u001b[0mout\u001b[0m \u001b[0;34m=\u001b[0m \u001b[0;32mNone\u001b[0m\u001b[0;34m\u001b[0m\u001b[0m\n",
      "\u001b[0;32m<timed exec>\u001b[0m in \u001b[0;36m<module>\u001b[0;34m()\u001b[0m\n",
      "\u001b[0;31mNameError\u001b[0m: name 'y' is not defined"
     ]
    }
   ],
   "source": [
    "%%time\n",
    "for x in range (1,30000000):\n",
    "    y = y + x"
   ]
  },
  {
   "cell_type": "code",
   "execution_count": 75,
   "metadata": {
    "collapsed": false
   },
   "outputs": [
    {
     "name": "stdout",
     "output_type": "stream",
     "text": [
      "The slowest run took 4.24 times longer than the fastest. This could mean that an intermediate result is being cached.\n",
      "1000000 loops, best of 3: 496 ns per loop\n"
     ]
    },
    {
     "data": {
      "text/plain": [
       "<TimeitResult : 1000000 loops, best of 3: 496 ns per loop>"
      ]
     },
     "execution_count": 75,
     "metadata": {},
     "output_type": "execute_result"
    }
   ],
   "source": [
    "%timeit -o range(400)"
   ]
  },
  {
   "cell_type": "code",
   "execution_count": 78,
   "metadata": {
    "collapsed": false
   },
   "outputs": [
    {
     "data": {
      "text/plain": [
       "{'Apple_PubSub_Socket_Render': '/private/tmp/com.apple.launchd.eQdbgZF1U5/Render',\n",
       " 'CLICOLOR': '1',\n",
       " 'GIT_PAGER': 'cat',\n",
       " 'HOME': '/Users/HudsonAccount',\n",
       " 'JPY_PARENT_PID': '21554',\n",
       " 'LANG': 'en_CA.UTF-8',\n",
       " 'LOGNAME': 'HudsonAccount',\n",
       " 'PAGER': 'cat',\n",
       " 'PATH': '//anaconda/bin:/Users/HudsonAccount/Documents/Andaconda/anaconda/bin:/Users/HudsonAccount/Library/Enthought/Canopy_64bit/User/bin:/Library/Frameworks/Python.framework/Versions/3.4/bin:/usr/local/bin:/usr/bin:/bin:/usr/sbin:/sbin:/usr/local/git/bin',\n",
       " 'PWD': '/Users/HudsonAccount',\n",
       " 'SHELL': '/bin/bash',\n",
       " 'SHLVL': '1',\n",
       " 'SSH_AUTH_SOCK': '/private/tmp/com.apple.launchd.MnWTPvab7Z/Listeners',\n",
       " 'TERM': 'xterm-color',\n",
       " 'TERM_PROGRAM': 'Apple_Terminal',\n",
       " 'TERM_PROGRAM_VERSION': '343.7',\n",
       " 'TERM_SESSION_ID': 'C47D55B1-10C4-471C-933F-C5ABDE7F6F24',\n",
       " 'TMPDIR': '/var/folders/tv/krnw8r496l75h42_kw0ndf9h0000gn/T/',\n",
       " 'USER': 'HudsonAccount',\n",
       " 'VIRTUAL_ENV': '/Users/HudsonAccount/Library/Enthought/Canopy_64bit/User',\n",
       " 'XPC_FLAGS': '0x0',\n",
       " 'XPC_SERVICE_NAME': '0',\n",
       " '_': '//anaconda/bin/jupyter',\n",
       " '__CF_USER_TEXT_ENCODING': '0x1F5:0x0:0x0'}"
      ]
     },
     "execution_count": 78,
     "metadata": {},
     "output_type": "execute_result"
    }
   ],
   "source": [
    "%env"
   ]
  },
  {
   "cell_type": "code",
   "execution_count": 82,
   "metadata": {
    "collapsed": false
   },
   "outputs": [
    {
     "data": {
      "text/plain": [
       "'/Users/HudsonAccount'"
      ]
     },
     "execution_count": 82,
     "metadata": {},
     "output_type": "execute_result"
    }
   ],
   "source": [
    "%env PWD"
   ]
  },
  {
   "cell_type": "code",
   "execution_count": 85,
   "metadata": {
    "collapsed": false
   },
   "outputs": [],
   "source": [
    "%pastebin?"
   ]
  },
  {
   "cell_type": "code",
   "execution_count": null,
   "metadata": {
    "collapsed": true
   },
   "outputs": [],
   "source": []
  }
 ],
 "metadata": {
  "kernelspec": {
   "display_name": "Python 3",
   "language": "python",
   "name": "python3"
  },
  "language_info": {
   "codemirror_mode": {
    "name": "ipython",
    "version": 3
   },
   "file_extension": ".py",
   "mimetype": "text/x-python",
   "name": "python",
   "nbconvert_exporter": "python",
   "pygments_lexer": "ipython3",
   "version": "3.5.1"
  }
 },
 "nbformat": 4,
 "nbformat_minor": 0
}
